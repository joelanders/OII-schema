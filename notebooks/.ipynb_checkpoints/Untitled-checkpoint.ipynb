{
 "cells": [
  {
   "cell_type": "code",
   "execution_count": 1,
   "metadata": {
    "collapsed": false,
    "scrolled": true
   },
   "outputs": [
    {
     "data": {
      "text/plain": [
       "'GitHub lives! (2016-07-25 01:43:04 -0700) (1)\\n'"
      ]
     },
     "execution_count": 1,
     "metadata": {},
     "output_type": "execute_result"
    }
   ],
   "source": [
    "var rp = require('request-promise');\n",
    "var glob = true\n",
    "var result = \"\";\n",
    "\n",
    "$$.async();\n",
    "\n",
    "var promise = rp('https://github.com/status')\n",
    "    .then(function (res) {\n",
    "        result = res\n",
    "        $$.done()\n",
    "//         $$.sendResult(res)\n",
    "    })\n",
    "    .catch(function (err) {\n",
    "        $$.sendError(err)\n",
    "    });\n",
    "\n",
    "result"
   ]
  },
  {
   "cell_type": "code",
   "execution_count": 2,
   "metadata": {
    "collapsed": false
   },
   "outputs": [
    {
     "data": {
      "text/plain": [
       "'GitHub lives! (2016-07-25 01:43:04 -0700) (1)\\n'"
      ]
     },
     "execution_count": 2,
     "metadata": {},
     "output_type": "execute_result"
    }
   ],
   "source": [
    "result"
   ]
  }
 ],
 "metadata": {
  "kernelspec": {
   "display_name": "Javascript (Node.js)",
   "language": "javascript",
   "name": "javascript"
  },
  "language_info": {
   "file_extension": ".js",
   "mimetype": "application/javascript",
   "name": "javascript",
   "version": "6.3.0"
  }
 },
 "nbformat": 4,
 "nbformat_minor": 0
}
